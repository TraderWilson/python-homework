{
 "cells": [
  {
   "cell_type": "code",
   "execution_count": 1,
   "id": "f3ac5698-80e5-4c75-a12c-489a42b1f5f5",
   "metadata": {},
   "outputs": [],
   "source": [
    "import csv"
   ]
  },
  {
   "cell_type": "code",
   "execution_count": 6,
   "id": "23de3e00-ce9c-4ff2-9dba-741a8f551c32",
   "metadata": {
    "tags": []
   },
   "outputs": [],
   "source": [
    "menu = []\n",
    "menu_file_path = 'Resources/menu_data.csv'\n",
    "with open(menu_file_path, newline='') as menu_csvfile:\n",
    "    menu_reader = csv.reader(menu_csvfile, delimiter=',')\n",
    "    next(menu_reader)  # Skip the header\n",
    "    for row in menu_reader:\n",
    "        menu.append(row)"
   ]
  },
  {
   "cell_type": "code",
   "execution_count": 7,
   "id": "81b678da-bdc3-4c78-ac61-64a0a4ae6a40",
   "metadata": {
    "tags": []
   },
   "outputs": [],
   "source": [
    "sales = []\n",
    "sales_file_path = 'Resources/sales_data.csv'\n",
    "with open(sales_file_path, newline='') as sales_csvfile:\n",
    "    sales_reader = csv.reader(sales_csvfile, delimiter=',')\n",
    "    next(sales_reader)  # Skip the header\n",
    "    for row in sales_reader:\n",
    "        sales.append(row)"
   ]
  },
  {
   "cell_type": "code",
   "execution_count": null,
   "id": "6cd65fff-67c6-4b32-bb9b-5bcb558f7089",
   "metadata": {},
   "outputs": [],
   "source": []
  }
 ],
 "metadata": {
  "kernelspec": {
   "display_name": "Python 3 (ipykernel)",
   "language": "python",
   "name": "python3"
  },
  "language_info": {
   "codemirror_mode": {
    "name": "ipython",
    "version": 3
   },
   "file_extension": ".py",
   "mimetype": "text/x-python",
   "name": "python",
   "nbconvert_exporter": "python",
   "pygments_lexer": "ipython3",
   "version": "3.10.13"
  }
 },
 "nbformat": 4,
 "nbformat_minor": 5
}
