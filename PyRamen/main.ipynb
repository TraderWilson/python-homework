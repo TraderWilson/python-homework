{
 "cells": [
  {
   "cell_type": "code",
   "execution_count": 2,
   "id": "f3ac5698-80e5-4c75-a12c-489a42b1f5f5",
   "metadata": {},
   "outputs": [],
   "source": [
    "import csv"
   ]
  },
  {
   "cell_type": "code",
   "execution_count": 3,
   "id": "23de3e00-ce9c-4ff2-9dba-741a8f551c32",
   "metadata": {
    "tags": []
   },
   "outputs": [],
   "source": [
    "menu = []\n",
    "menu_file_path = 'Resources/menu_data.csv'\n",
    "with open(menu_file_path, newline='') as menu_csvfile:\n",
    "    menu_reader = csv.reader(menu_csvfile, delimiter=',')\n",
    "    next(menu_reader)  # Skip the header\n",
    "    for row in menu_reader:\n",
    "        menu.append(row)"
   ]
  },
  {
   "cell_type": "code",
   "execution_count": 4,
   "id": "81b678da-bdc3-4c78-ac61-64a0a4ae6a40",
   "metadata": {
    "tags": []
   },
   "outputs": [],
   "source": [
    "sales = []\n",
    "sales_file_path = 'Resources/sales_data.csv'\n",
    "with open(sales_file_path, newline='') as sales_csvfile:\n",
    "    sales_reader = csv.reader(sales_csvfile, delimiter=',')\n",
    "    next(sales_reader)  # Skip the header\n",
    "    for row in sales_reader:\n",
    "        sales.append(row)"
   ]
  },
  {
   "cell_type": "code",
   "execution_count": 5,
   "id": "6cd65fff-67c6-4b32-bb9b-5bcb558f7089",
   "metadata": {},
   "outputs": [],
   "source": [
    "#Initialize an empty report dictionary to hold the future aggregated per-product results\n",
    "report = {}"
   ]
  },
  {
   "cell_type": "code",
   "execution_count": 11,
   "id": "cdece556-0120-4daf-a3c3-78e774e645d6",
   "metadata": {
    "tags": []
   },
   "outputs": [],
   "source": [
    "# Loop through every row in the sales list object\n",
    "for row in sales:\n",
    "    # Set columns of the sales data to variables\n",
    "    quantity = int(row[3])\n",
    "    sales_item = row[4]\n",
    "    # Perform a quick check if the sales_item is already included in the report\n",
    "    if sales_item not in report:\n",
    "        # Initialize key-value pairs for the particular sales_item in the report\n",
    "        report[sales_item] = {\n",
    "            \"01-count\": 0,\n",
    "            \"02-revenue\": 0,\n",
    "            \"03-cogs\": 0,\n",
    "            \"04-profit\": 0}\n",
    "    # Create a nested loop by looping through every record in menu\n",
    "    for item in menu:\n",
    "        # Set columns of the menu data to variables\n",
    "        menu_item = item[0]\n",
    "        price = float(item[3])\n",
    "        cost = int(item[4])\n",
    "        \n",
    "        if sales_item == menu_item:\n",
    "            # Capture the quantity from the sales data and the price and cost from the menu data\n",
    "            profit = price - cost\n",
    "            # Cumulatively add the values to the corresponding metrics in the report\n",
    "            report[menu_item][\"01-count\"] += quantity\n",
    "            report[menu_item][\"02-revenue\"] += price * quantity\n",
    "            report[menu_item][\"03-cogs\"] += cost * quantity\n",
    "            report[menu_item][\"04-profit\"] += profit * quantity"
   ]
  },
  {
   "cell_type": "code",
   "execution_count": 12,
   "id": "5df9dfc2-0cef-4dc9-b1c4-cd4887e549b5",
   "metadata": {
    "tags": []
   },
   "outputs": [],
   "source": [
    "# Write out the contents of the report dictionary to a text file\n",
    "with open('output_report.txt', 'w') as output_file:\n",
    "    for ramen_type, metrics in report.items():\n",
    "        output_file.write(f\"{ramen_type} {metrics}\\n\")"
   ]
  }
 ],
 "metadata": {
  "kernelspec": {
   "display_name": "Python 3 (ipykernel)",
   "language": "python",
   "name": "python3"
  },
  "language_info": {
   "codemirror_mode": {
    "name": "ipython",
    "version": 3
   },
   "file_extension": ".py",
   "mimetype": "text/x-python",
   "name": "python",
   "nbconvert_exporter": "python",
   "pygments_lexer": "ipython3",
   "version": "3.10.13"
  }
 },
 "nbformat": 4,
 "nbformat_minor": 5
}
